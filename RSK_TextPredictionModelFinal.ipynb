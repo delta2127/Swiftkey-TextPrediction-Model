{
  "nbformat": 4,
  "nbformat_minor": 0,
  "metadata": {
    "colab": {
      "name": "RSK_TextPredictionModel.ipynb",
      "provenance": [],
      "collapsed_sections": []
    },
    "kernelspec": {
      "name": "python3",
      "display_name": "Python 3"
    },
    "language_info": {
      "name": "python"
    }
  },
  "cells": [
    {
      "cell_type": "markdown",
      "source": [
        "#Importing Library"
      ],
      "metadata": {
        "id": "_hbpNI2CQGLr"
      }
    },
    {
      "cell_type": "code",
      "execution_count": 1,
      "metadata": {
        "id": "bTKsD8zNDVjG"
      },
      "outputs": [],
      "source": [
        "import pandas as pd\n",
        "from matplotlib import pyplot as plt\n",
        "import nltk\n",
        "from nltk.tokenize import word_tokenize\n",
        "from nltk.tokenize import sent_tokenize\n",
        "import seaborn as sns\n",
        "from wordcloud import WordCloud\n",
        "from collections import Counter\n",
        "import string\n",
        "import time"
      ]
    },
    {
      "cell_type": "markdown",
      "source": [
        "#Read Data "
      ],
      "metadata": {
        "id": "1Q_3K7CuQuhk"
      }
    },
    {
      "cell_type": "code",
      "source": [
        "%cd\n",
        "from google.colab import drive\n",
        "drive.mount('/content/gdrive')"
      ],
      "metadata": {
        "colab": {
          "base_uri": "https://localhost:8080/"
        },
        "id": "LRCqWdf6QYg2",
        "outputId": "d81501eb-9671-4854-fa86-a6e4aa293a93"
      },
      "execution_count": 2,
      "outputs": [
        {
          "output_type": "stream",
          "name": "stdout",
          "text": [
            "/root\n",
            "Mounted at /content/gdrive\n"
          ]
        }
      ]
    },
    {
      "cell_type": "code",
      "source": [
        "#f = open('/content/gdrive/MyDrive/DS/en_US.news.txt.txt','r',encoding='utf8')\n",
        "f = open('/content/gdrive/MyDrive/DS/en_US.blogs.txt','r',encoding='utf8')\n",
        "#f = open('/content/gdrive/MyDrive/DS/en_US.twitter.txt','r',encoding='utf8')"
      ],
      "metadata": {
        "id": "nLXgX1kzQuGs"
      },
      "execution_count": 3,
      "outputs": []
    },
    {
      "cell_type": "code",
      "source": [
        "strAllTexts = f.read()\n",
        "f.close()"
      ],
      "metadata": {
        "id": "d8kKTVMlhdYJ"
      },
      "execution_count": 4,
      "outputs": []
    },
    {
      "cell_type": "markdown",
      "source": [
        "\n",
        "\n",
        "As size of the text file is to large to disply we are Displaying only 3000 string character in the  text file   \n",
        "\n"
      ],
      "metadata": {
        "id": "IUEqiphvwyhE"
      }
    },
    {
      "cell_type": "code",
      "source": [
        "print(strAllTexts[0:3000])"
      ],
      "metadata": {
        "colab": {
          "base_uri": "https://localhost:8080/"
        },
        "id": "vko0-kWMiKNw",
        "outputId": "3bde5802-5c78-4d56-c79e-2d1eeb607205"
      },
      "execution_count": 5,
      "outputs": [
        {
          "output_type": "stream",
          "name": "stdout",
          "text": [
            "In the years thereafter, most of the Oil fields and platforms were named after pagan “gods”.\n",
            "We love you Mr. Brown.\n",
            "Chad has been awesome with the kids and holding down the fort while I work later than usual! The kids have been busy together playing Skylander on the XBox together, after Kyan cashed in his $$$ from his piggy bank. He wanted that game so bad and used his gift card from his birthday he has been saving and the money to get it (he never taps into that thing either, that is how we know he wanted it so bad). We made him count all of his money to make sure that he had enough! It was very cute to watch his reaction when he realized he did! He also does a very good job of letting Lola feel like she is playing too, by letting her switch out the characters! She loves it almost as much as him.\n",
            "so anyways, i am going to share some home decor inspiration that i have been storing in my folder on the puter. i have all these amazing images stored away ready to come to life when we get our home.\n",
            "With graduation season right around the corner, Nancy has whipped up a fun set to help you out with not only your graduation cards and gifts, but any occasion that brings on a change in one's life. I stamped the images in Memento Tuxedo Black and cut them out with circle Nestabilities. I embossed the kraft and red cardstock with TE's new Stars Impressions Plate, which is double sided and gives you 2 fantastic patterns. You can see how to use the Impressions Plates in this tutorial Taylor created. Just one pass through your die cut machine using the Embossing Pad Kit is all you need to do - super easy!\n",
            "If you have an alternative argument, let's hear it! :)\n",
            "If I were a bear,\n",
            "Other friends have similar stories, of how they were treated brusquely by Laurelwood staff, and as often as not, the same names keep coming up. About a half-dozen friends of mine refuse to step foot in there ever again because of it. How many others they’re telling - and keeping away - one can only guess.\n",
            "Although our beloved Cantab can’t claim the international recognition afforded the Station Inn, otherwise these two joints feel like twins separated by nothing more than distance. They share a complete lack of pretense that can’t be imitated or approximated. Their very ordinariness makes them special.\n",
            "Peter Schiff: Hard to tell. It will look pretty bad for most Americans when prices will go way up and they can’t afford to buy stuff. It could also get very bad as far as loss of individual liberty. A lot of people will blame it on capitalism, on freedom, and they will claim we need more government. It could be used as an impetus for more regulation, which would be a disaster, or it could be an impetus to get rid of all the regulation that was causing the problem. But whether we will do the right or the wrong thing here in America, there will be a lot of pain first. We got some serious problems we have to deal with, but we are not dealing with the problems, we only make the problems worse.\n",
            "\n"
          ]
        }
      ]
    },
    {
      "cell_type": "markdown",
      "source": [
        "# Exploratory Data Analytics"
      ],
      "metadata": {
        "id": "1PEpI91bhK0E"
      }
    },
    {
      "cell_type": "markdown",
      "source": [
        "Length of the text file will give us information about the number of characters present in text file"
      ],
      "metadata": {
        "id": "EHAmkn69xOAR"
      }
    },
    {
      "cell_type": "code",
      "source": [
        "print(\"*** Char Count ***\")\n",
        "print(len(strAllTexts))"
      ],
      "metadata": {
        "colab": {
          "base_uri": "https://localhost:8080/"
        },
        "id": "gfsdTKxLZF7R",
        "outputId": "f49ce953-517c-499b-c601-0d35881de244"
      },
      "execution_count": 6,
      "outputs": [
        {
          "output_type": "stream",
          "name": "stdout",
          "text": [
            "*** Char Count ***\n",
            "207723793\n"
          ]
        }
      ]
    },
    {
      "cell_type": "code",
      "source": [
        "nltk.download('punkt')"
      ],
      "metadata": {
        "colab": {
          "base_uri": "https://localhost:8080/"
        },
        "id": "JGHdQ05QkFFx",
        "outputId": "1fefd10c-640e-4af3-b4c8-67aca189d85b"
      },
      "execution_count": 7,
      "outputs": [
        {
          "output_type": "stream",
          "name": "stdout",
          "text": [
            "[nltk_data] Downloading package punkt to /root/nltk_data...\n",
            "[nltk_data]   Unzipping tokenizers/punkt.zip.\n"
          ]
        },
        {
          "output_type": "execute_result",
          "data": {
            "text/plain": [
              "True"
            ]
          },
          "metadata": {},
          "execution_count": 7
        }
      ]
    },
    {
      "cell_type": "code",
      "source": [
        "print(\"*** Tokenize Into Lines ***\")\n",
        "lstLines = sent_tokenize(strAllTexts)\n",
        "print(\"Done ... \")"
      ],
      "metadata": {
        "colab": {
          "base_uri": "https://localhost:8080/"
        },
        "id": "YVFIpyQ2jNba",
        "outputId": "f6ea9861-96cd-4696-eb3a-a76ce254ce4c"
      },
      "execution_count": 8,
      "outputs": [
        {
          "output_type": "stream",
          "name": "stdout",
          "text": [
            "*** Tokenize Into Lines ***\n",
            "Done ... \n"
          ]
        }
      ]
    },
    {
      "cell_type": "markdown",
      "source": [
        "Length of sentences in the text file will give us information about the number of sentences present in text file"
      ],
      "metadata": {
        "id": "Gox76XaNxcIA"
      }
    },
    {
      "cell_type": "code",
      "source": [
        "print(\"*** Lines Count***\")\n",
        "print(len(lstLines))"
      ],
      "metadata": {
        "colab": {
          "base_uri": "https://localhost:8080/"
        },
        "id": "Pm4TqZvhkSGi",
        "outputId": "9b70f6fe-5278-40dd-a70a-ca2a00193456"
      },
      "execution_count": 9,
      "outputs": [
        {
          "output_type": "stream",
          "name": "stdout",
          "text": [
            "*** Lines Count***\n",
            "2083684\n"
          ]
        }
      ]
    },
    {
      "cell_type": "markdown",
      "source": [
        "As there are many sentences in text file we will be displaying 10 sentences only"
      ],
      "metadata": {
        "id": "0qXeLX6uxtNS"
      }
    },
    {
      "cell_type": "code",
      "source": [
        "print(\"*** Fist 10 Lines ***\")\n",
        "print(lstLines[0:10])"
      ],
      "metadata": {
        "colab": {
          "base_uri": "https://localhost:8080/"
        },
        "id": "H-zFVEsjk6DA",
        "outputId": "f7524ae4-3006-4b9b-9a20-726c04831887"
      },
      "execution_count": 10,
      "outputs": [
        {
          "output_type": "stream",
          "name": "stdout",
          "text": [
            "*** Fist 10 Lines ***\n",
            "['In the years thereafter, most of the Oil fields and platforms were named after pagan “gods”.', 'We love you Mr. Brown.', 'Chad has been awesome with the kids and holding down the fort while I work later than usual!', 'The kids have been busy together playing Skylander on the XBox together, after Kyan cashed in his $$$ from his piggy bank.', 'He wanted that game so bad and used his gift card from his birthday he has been saving and the money to get it (he never taps into that thing either, that is how we know he wanted it so bad).', 'We made him count all of his money to make sure that he had enough!', 'It was very cute to watch his reaction when he realized he did!', 'He also does a very good job of letting Lola feel like she is playing too, by letting her switch out the characters!', 'She loves it almost as much as him.', 'so anyways, i am going to share some home decor inspiration that i have been storing in my folder on the puter.']\n"
          ]
        }
      ]
    },
    {
      "cell_type": "code",
      "source": [
        "print(\"*** File Lines Type ***\")\n",
        "print(type(lstLines))"
      ],
      "metadata": {
        "colab": {
          "base_uri": "https://localhost:8080/"
        },
        "id": "eeRVLI8clXpA",
        "outputId": "1957d5b3-9dc9-4b8f-e05d-e822e6acaf40"
      },
      "execution_count": 11,
      "outputs": [
        {
          "output_type": "stream",
          "name": "stdout",
          "text": [
            "*** File Lines Type ***\n",
            "<class 'list'>\n"
          ]
        }
      ]
    },
    {
      "cell_type": "markdown",
      "source": [
        "Displaying the number characters present in first 1000 sentence"
      ],
      "metadata": {
        "id": "uRpCewsdx8W9"
      }
    },
    {
      "cell_type": "code",
      "source": [
        "print(\"*** Chars Per Line ***\")\n",
        "lstCharLength = [len(vline) for vline in lstLines]\n",
        "print(lstCharLength[0:1000])"
      ],
      "metadata": {
        "colab": {
          "base_uri": "https://localhost:8080/"
        },
        "id": "99VLI3Yel1Fn",
        "outputId": "a331628e-9d06-4ecf-f5bc-3e96f8b6bfca"
      },
      "execution_count": 12,
      "outputs": [
        {
          "output_type": "stream",
          "name": "stdout",
          "text": [
            "*** Chars Per Line ***\n",
            "[92, 22, 92, 122, 191, 67, 63, 116, 35, 111, 87, 197, 88, 135, 78, 106, 51, 164, 89, 72, 179, 78, 43, 27, 105, 64, 101, 167, 103, 125, 2, 49, 77, 106, 216, 162, 145, 85, 48, 32, 39, 43, 45, 43, 21, 41, 18, 8, 22, 37, 47, 55, 29, 130, 295, 277, 27, 204, 100, 61, 90, 205, 235, 32, 96, 41, 63, 22, 41, 37, 84, 103, 51, 101, 101, 94, 91, 112, 94, 110, 106, 40, 207, 433, 119, 81, 100, 14, 93, 94, 67, 55, 83, 48, 58, 23, 80, 117, 84, 38, 116, 9, 69, 120, 70, 201, 23, 139, 120, 81, 145, 109, 149, 96, 108, 25, 160, 55, 193, 43, 168, 107, 105, 86, 27, 330, 5, 211, 304, 81, 62, 28, 80, 7, 160, 58, 19, 75, 35, 182, 173, 327, 123, 178, 242, 42, 91, 95, 14, 110, 66, 213, 119, 242, 10, 121, 65, 17, 96, 16, 34, 171, 162, 56, 8, 83, 54, 92, 139, 96, 69, 112, 87, 114, 34, 222, 177, 39, 142, 79, 27, 164, 146, 68, 73, 144, 114, 9, 3, 5, 21, 99, 136, 47, 169, 209, 128, 50, 66, 104, 76, 96, 123, 36, 332, 8, 56, 15, 108, 34, 118, 137, 233, 48, 164, 106, 88, 76, 94, 45, 76, 402, 14, 100, 111, 86, 145, 110, 8, 40, 80, 79, 244, 84, 106, 358, 128, 330, 84, 156, 67, 27, 133, 56, 83, 73, 21, 167, 157, 96, 75, 61, 308, 82, 51, 94, 82, 68, 60, 71, 20, 122, 96, 79, 187, 125, 116, 38, 217, 99, 92, 107, 45, 59, 6, 77, 52, 172, 171, 86, 144, 97, 60, 39, 77, 116, 60, 158, 115, 97, 88, 64, 106, 154, 28, 208, 132, 58, 18, 130, 46, 293, 33, 30, 34, 455, 243, 123, 153, 91, 139, 143, 55, 62, 63, 120, 153, 84, 62, 62, 124, 62, 189, 73, 18, 78, 59, 82, 50, 24, 81, 58, 57, 28, 53, 102, 48, 90, 102, 57, 55, 48, 13, 201, 61, 70, 159, 55, 285, 71, 87, 193, 118, 85, 138, 96, 111, 227, 122, 116, 75, 141, 179, 260, 27, 36, 6, 61, 80, 146, 166, 5, 77, 66, 73, 30, 116, 86, 57, 187, 84, 186, 80, 64, 29, 43, 47, 60, 147, 67, 170, 85, 21, 157, 226, 145, 23, 152, 73, 61, 91, 111, 115, 95, 230, 130, 65, 21, 88, 44, 99, 79, 65, 260, 394, 106, 214, 116, 16, 61, 179, 73, 124, 288, 196, 92, 105, 19, 75, 119, 62, 36, 49, 71, 99, 25, 33, 145, 137, 94, 57, 82, 14, 143, 73, 33, 61, 31, 52, 72, 27, 215, 172, 143, 31, 217, 356, 343, 135, 192, 26, 30, 130, 2, 36, 23, 17, 138, 106, 182, 109, 83, 58, 41, 29, 168, 150, 67, 70, 76, 243, 165, 166, 12, 11, 199, 18, 58, 146, 305, 86, 129, 73, 85, 154, 105, 21, 119, 71, 131, 22, 38, 158, 72, 66, 119, 111, 115, 191, 62, 9, 61, 55, 89, 199, 69, 42, 134, 28, 35, 81, 90, 73, 58, 86, 185, 104, 142, 118, 60, 129, 47, 53, 56, 47, 70, 104, 77, 101, 139, 121, 172, 74, 141, 22, 43, 41, 75, 212, 67, 123, 252, 46, 84, 210, 170, 147, 75, 9, 217, 84, 187, 57, 2, 21, 198, 92, 10, 9, 36, 34, 39, 86, 47, 103, 55, 118, 67, 99, 115, 43, 125, 253, 128, 160, 109, 190, 282, 170, 239, 84, 66, 78, 59, 68, 54, 50, 50, 15, 24, 23, 25, 76, 112, 53, 41, 56, 13, 78, 295, 127, 95, 31, 47, 256, 242, 28, 188, 88, 72, 90, 96, 118, 187, 35, 70, 101, 434, 15, 46, 98, 178, 71, 119, 68, 144, 11, 68, 353, 178, 81, 66, 67, 83, 54, 302, 193, 7, 190, 120, 22, 70, 73, 89, 46, 32, 400, 21, 190, 140, 189, 60, 169, 126, 73, 41, 87, 66, 49, 119, 10, 80, 60, 73, 136, 73, 84, 47, 113, 79, 40, 49, 35, 25, 19, 131, 78, 147, 117, 55, 111, 41, 97, 54, 120, 255, 74, 76, 111, 69, 113, 123, 143, 248, 55, 243, 52, 118, 85, 110, 198, 13, 124, 112, 72, 59, 75, 20, 179, 87, 39, 65, 72, 117, 15, 41, 17, 5, 84, 24, 157, 88, 75, 43, 177, 98, 121, 82, 133, 40, 59, 74, 86, 102, 94, 60, 74, 101, 218, 45, 32, 81, 31, 31, 48, 64, 73, 101, 6, 78, 138, 26, 146, 26, 13, 76, 54, 35, 36, 68, 47, 45, 56, 74, 66, 156, 47, 181, 232, 25, 122, 111, 77, 114, 91, 73, 77, 111, 46, 55, 65, 192, 70, 33, 56, 38, 35, 87, 113, 94, 82, 247, 127, 72, 94, 35, 45, 16, 47, 36, 47, 41, 84, 26, 260, 127, 394, 213, 280, 87, 29, 123, 51, 8, 66, 31, 214, 25, 138, 66, 146, 42, 79, 113, 175, 301, 10, 15, 115, 55, 13, 35, 41, 56, 10, 4, 7, 5, 85, 91, 51, 38, 137, 74, 87, 145, 27, 39, 92, 77, 169, 22, 75, 18, 34, 130, 100, 71, 172, 128, 46, 77, 136, 144, 61, 21, 29, 47, 33, 169, 156, 47, 804, 31, 250, 160, 143, 38, 104, 444, 42, 41, 44, 100, 532, 19, 55, 86, 107, 60, 52, 4, 90, 216, 57, 10, 53, 46, 51, 86, 99, 102, 168, 249, 184, 132, 131, 87, 55, 146, 33, 19, 139, 115, 99, 420, 115, 239, 167, 78, 64, 80, 125, 83, 62, 199, 135, 102, 50, 197, 167, 252, 147, 90, 98, 120, 22, 116, 111, 208, 141, 37, 34, 13, 92, 50, 236, 450, 221, 274, 163, 62, 101, 119, 5, 75, 353, 38, 91, 209, 146, 139, 46, 119, 117, 81, 166, 56, 63, 57, 130, 67, 15, 51, 141, 129, 122, 95, 63, 119, 111, 106, 285, 158, 15, 14, 104, 88, 56, 71]\n"
          ]
        }
      ]
    },
    {
      "cell_type": "markdown",
      "source": [
        "Displaying first sentence and the number of characters present in it"
      ],
      "metadata": {
        "id": "4Vewa2XjyUhC"
      }
    },
    {
      "cell_type": "code",
      "source": [
        "print(\"*** Sample Line & Char Count ***\")\n",
        "print(lstLines[0])\n",
        "print(lstCharLength[0])"
      ],
      "metadata": {
        "colab": {
          "base_uri": "https://localhost:8080/"
        },
        "id": "6ibTpMSDl83n",
        "outputId": "bd4e92a9-6c8a-4a61-e976-82294cff81c8"
      },
      "execution_count": 13,
      "outputs": [
        {
          "output_type": "stream",
          "name": "stdout",
          "text": [
            "*** Sample Line & Char Count ***\n",
            "In the years thereafter, most of the Oil fields and platforms were named after pagan “gods”.\n",
            "92\n"
          ]
        }
      ]
    },
    {
      "cell_type": "code",
      "source": [
        "print(\"\\n*** Histogram ***\")\n",
        "plt.figure()\n",
        "sns.distplot(lstCharLength, bins=70, kde=False, color='b')\n",
        "plt.show()"
      ],
      "metadata": {
        "colab": {
          "base_uri": "https://localhost:8080/",
          "height": 358
        },
        "id": "ucxzQOzFmD6p",
        "outputId": "1f9e09cd-d2d6-4fbe-de0e-2383dabc5964"
      },
      "execution_count": 14,
      "outputs": [
        {
          "output_type": "stream",
          "name": "stdout",
          "text": [
            "\n",
            "*** Histogram ***\n"
          ]
        },
        {
          "output_type": "stream",
          "name": "stderr",
          "text": [
            "/usr/local/lib/python3.7/dist-packages/seaborn/distributions.py:2619: FutureWarning: `distplot` is a deprecated function and will be removed in a future version. Please adapt your code to use either `displot` (a figure-level function with similar flexibility) or `histplot` (an axes-level function for histograms).\n",
            "  warnings.warn(msg, FutureWarning)\n"
          ]
        },
        {
          "output_type": "display_data",
          "data": {
            "image/png": "[encoded data removed]",
            "text/plain": [
              "<Figure size 432x288 with 1 Axes>"
            ]
          },
          "metadata": {
            "needs_background": "light"
          }
        }
      ]
    },
    {
      "cell_type": "markdown",
      "source": [
        "# Data Transformation"
      ],
      "metadata": {
        "id": "7Ve3MZE_mSkO"
      }
    },
    {
      "cell_type": "markdown",
      "source": [
        "splitting the text into words using word_tokenizer and storing it in list as data is too large it will take approximately 5 min"
      ],
      "metadata": {
        "id": "DgdlVGB3yhhv"
      }
    },
    {
      "cell_type": "code",
      "source": [
        "print('*** Split Text To Words ***')\n",
        "lstAllWords = word_tokenize(strAllTexts)\n",
        "print('Done ...')"
      ],
      "metadata": {
        "colab": {
          "base_uri": "https://localhost:8080/"
        },
        "id": "eLJFhxYJmRt9",
        "outputId": "479c8eb0-f4d8-4661-a8aa-284fed3d0fee"
      },
      "execution_count": 15,
      "outputs": [
        {
          "output_type": "stream",
          "name": "stdout",
          "text": [
            "*** Split Text To Words ***\n",
            "Done ...\n"
          ]
        }
      ]
    },
    {
      "cell_type": "code",
      "source": [
        "print('*** Convert To Lower Case ***')\n",
        "lstAllWords = [t.lower() for t in lstAllWords]\n",
        "print('Done ...')"
      ],
      "metadata": {
        "colab": {
          "base_uri": "https://localhost:8080/"
        },
        "id": "QVKdf5LxmsUG",
        "outputId": "db1c8713-d129-4723-e776-110b411e28ca"
      },
      "execution_count": 16,
      "outputs": [
        {
          "output_type": "stream",
          "name": "stdout",
          "text": [
            "*** Convert To Lower Case ***\n",
            "Done ...\n"
          ]
        }
      ]
    },
    {
      "cell_type": "markdown",
      "source": [
        "Removing Digites and punctuations present in the list as data is too large it will take approximately 2 min"
      ],
      "metadata": {
        "id": "DwQTi5gKyrM_"
      }
    },
    {
      "cell_type": "code",
      "source": [
        "print('*** Remove Punctuations & Digits ***')\n",
        "lstAllWords = [t.translate(str.maketrans('','','01234567890')) for t in lstAllWords]\n",
        "lstAllWords = [t.translate(str.maketrans('','',string.punctuation)) for t in lstAllWords]\n",
        "print('Done ...')"
      ],
      "metadata": {
        "colab": {
          "base_uri": "https://localhost:8080/"
        },
        "id": "yoXY7dUpmxr3",
        "outputId": "dd84cedc-6338-45da-bc80-c8a56994e770"
      },
      "execution_count": 17,
      "outputs": [
        {
          "output_type": "stream",
          "name": "stdout",
          "text": [
            "*** Remove Punctuations & Digits ***\n",
            "Done ...\n"
          ]
        }
      ]
    },
    {
      "cell_type": "code",
      "source": [
        "print('*** Remove Profane Words ***')\n",
        "lstProfWords = [\"arse\",\"ass\",\"asshole\",\"bastard\",\"bitch\",\"bloody\",\"bollocks\",\"child-fucker\",\"cunt\",\"damn\",\"fuck\",\"goddamn\",\"godsdamn\",\"hell\",\"motherfucker\",\"shit\",\"shitass\",\"whore\"]\n",
        "lstAllWords = [t for t in lstAllWords if t not in lstProfWords]\n",
        "print('Done ...')"
      ],
      "metadata": {
        "colab": {
          "base_uri": "https://localhost:8080/"
        },
        "id": "Fc1Vh7lOm5VJ",
        "outputId": "721bb8b5-3e4d-49a6-8525-0c07aa900140"
      },
      "execution_count": 18,
      "outputs": [
        {
          "output_type": "stream",
          "name": "stdout",
          "text": [
            "*** Remove Profane Words ***\n",
            "Done ...\n"
          ]
        }
      ]
    },
    {
      "cell_type": "markdown",
      "source": [
        "Removing specific words that are not usefull for us"
      ],
      "metadata": {
        "id": "fBMNcw9_y_vv"
      }
    },
    {
      "cell_type": "code",
      "source": [
        "print('*** Remove App Specific Words ***')\n",
        "lstSpecWords = ['ve','ll',' ','’','—','”','“','rt','nt','via','http','https','mailto']\n",
        "singleapla=\"bcdefghjklmnopqrstuvwxyz\"\n",
        "lstSpecWords=lstSpecWords+list(singleapla)\n",
        "lstAllWords = [t for t in lstAllWords if t not in lstSpecWords]\n",
        "print('Done ...')"
      ],
      "metadata": {
        "colab": {
          "base_uri": "https://localhost:8080/"
        },
        "id": "ajemMwkNnAO_",
        "outputId": "1675f5b8-41e1-4dd0-df2e-988eac9f096b"
      },
      "execution_count": 19,
      "outputs": [
        {
          "output_type": "stream",
          "name": "stdout",
          "text": [
            "*** Remove App Specific Words ***\n",
            "Done ...\n"
          ]
        }
      ]
    },
    {
      "cell_type": "markdown",
      "source": [
        "Removing words with length zero"
      ],
      "metadata": {
        "id": "TyW3b808zP7p"
      }
    },
    {
      "cell_type": "code",
      "source": [
        "print('\\n*** Remove Short Words ***')\n",
        "lstAllWords = [t for t in lstAllWords if len(t)>0]\n",
        "print('Done ...')"
      ],
      "metadata": {
        "colab": {
          "base_uri": "https://localhost:8080/"
        },
        "id": "MMdFjirKnGIV",
        "outputId": "dc36cf2b-9dbf-4414-a692-e72453025d6b"
      },
      "execution_count": 20,
      "outputs": [
        {
          "output_type": "stream",
          "name": "stdout",
          "text": [
            "\n",
            "*** Remove Short Words ***\n",
            "Done ...\n"
          ]
        }
      ]
    },
    {
      "cell_type": "markdown",
      "source": [
        "pre_word creates a dataframe that contains words and the words that comes previous to it.\n",
        "\n",
        "Display first 10 values in dataframe"
      ],
      "metadata": {
        "id": "hHhihtAHzaI4"
      }
    },
    {
      "cell_type": "code",
      "source": [
        "def pre_Word(arr):\n",
        "    dfW=pd.DataFrame()\n",
        "    l=arr.copy()\n",
        "    del l[-1]\n",
        "    dfW[\"Word\"]=l\n",
        "    l=arr.copy()\n",
        "    del l[0]\n",
        "    dfW[\"Before_Word\"]=l\n",
        "    dfW[\"Freq\"]=0 \n",
        "    return dfW\n",
        "dfw=pre_Word(lstAllWords)\n",
        "print(dfw.head(10))"
      ],
      "metadata": {
        "colab": {
          "base_uri": "https://localhost:8080/"
        },
        "id": "O1bCks2knQPn",
        "outputId": "26d1ed5f-8751-49d0-9194-626b15187498"
      },
      "execution_count": 21,
      "outputs": [
        {
          "output_type": "stream",
          "name": "stdout",
          "text": [
            "         Word Before_Word  Freq\n",
            "0          in         the     0\n",
            "1         the       years     0\n",
            "2       years  thereafter     0\n",
            "3  thereafter        most     0\n",
            "4        most          of     0\n",
            "5          of         the     0\n",
            "6         the         oil     0\n",
            "7         oil      fields     0\n",
            "8      fields         and     0\n",
            "9         and   platforms     0\n"
          ]
        }
      ]
    },
    {
      "cell_type": "markdown",
      "source": [
        "Create dictionary that contains counter of all words"
      ],
      "metadata": {
        "id": "ULvrI3Ev0HYe"
      }
    },
    {
      "cell_type": "code",
      "source": [
        "print('*** Word Freq Count ***')\n",
        "dctWordCount = Counter(lstAllWords)\n",
        "print('Done ...')"
      ],
      "metadata": {
        "colab": {
          "base_uri": "https://localhost:8080/"
        },
        "id": "QpmBNDcenmwX",
        "outputId": "366e2275-d91c-418f-901e-61a6df90d48a"
      },
      "execution_count": 22,
      "outputs": [
        {
          "output_type": "stream",
          "name": "stdout",
          "text": [
            "*** Word Freq Count ***\n",
            "Done ...\n"
          ]
        }
      ]
    },
    {
      "cell_type": "markdown",
      "source": [
        "Convert the datadictionary to dataframe"
      ],
      "metadata": {
        "id": "iv4exlll0X6n"
      }
    },
    {
      "cell_type": "code",
      "source": [
        "print('*** Convert To Dataframe ***')\n",
        "dfWordCount  = pd.DataFrame.from_dict(dctWordCount, orient='index').reset_index()\n",
        "dfWordCount.columns = ['Word','Freq']\n",
        "print('Done ...')\n",
        "print(dfWordCount.head(10))"
      ],
      "metadata": {
        "colab": {
          "base_uri": "https://localhost:8080/"
        },
        "id": "Hwz6hPD8ny42",
        "outputId": "e477d7a2-79b3-4a2a-df13-37435a7fa5e5"
      },
      "execution_count": 23,
      "outputs": [
        {
          "output_type": "stream",
          "name": "stdout",
          "text": [
            "*** Convert To Dataframe ***\n",
            "Done ...\n",
            "         Word     Freq\n",
            "0          in   593980\n",
            "1         the  1857032\n",
            "2       years    33067\n",
            "3  thereafter      218\n",
            "4        most    39724\n",
            "5          of   875123\n",
            "6         oil     5433\n",
            "7      fields     1112\n",
            "8         and  1088717\n",
            "9   platforms      258\n"
          ]
        }
      ]
    },
    {
      "cell_type": "code",
      "source": [
        "print('\\n*** Word Freq Count - Sorted ***')\n",
        "dfWordCount = dfWordCount.sort_values('Freq',ascending=False)\n",
        "print('Done ...')\n",
        "print(dfWordCount.head(10))"
      ],
      "metadata": {
        "colab": {
          "base_uri": "https://localhost:8080/"
        },
        "id": "ThVsB8tto5n_",
        "outputId": "3e94bf28-a490-4a1d-ff59-20553cfb74fa"
      },
      "execution_count": 24,
      "outputs": [
        {
          "output_type": "stream",
          "name": "stdout",
          "text": [
            "\n",
            "*** Word Freq Count - Sorted ***\n",
            "Done ...\n",
            "    Word     Freq\n",
            "1    the  1857032\n",
            "8    and  1088717\n",
            "60    to  1065873\n",
            "30     i   901387\n",
            "89     a   898199\n",
            "5     of   875123\n",
            "0     in   593980\n",
            "50  that   483073\n",
            "62    it   482596\n",
            "68    is   437375\n"
          ]
        }
      ]
    },
    {
      "cell_type": "markdown",
      "source": [
        "# Visual Data Anlytics"
      ],
      "metadata": {
        "id": "hMiesbHwpEZU"
      }
    },
    {
      "cell_type": "markdown",
      "source": [
        "Creating and Displaying plot of top 15 highest frequently appear values in dataframe WordCount"
      ],
      "metadata": {
        "id": "Dpy_TOO60veq"
      }
    },
    {
      "cell_type": "code",
      "source": [
        "print('\\n*** Plot Word Freq Count - Top 15 ***')\n",
        "G=dfWordCount.head(15)\n",
        "plt.figure()\n",
        "sns.barplot(x=\"Freq\", y=\"Word\", data=G, color=\"b\", orient='h')\n",
        "plt.show()"
      ],
      "metadata": {
        "colab": {
          "base_uri": "https://localhost:8080/",
          "height": 315
        },
        "id": "jvp9KZmrpMxP",
        "outputId": "e98b6961-bd65-40f9-b521-2d3fa62fd8e8"
      },
      "execution_count": 25,
      "outputs": [
        {
          "output_type": "stream",
          "name": "stdout",
          "text": [
            "\n",
            "*** Plot Word Freq Count - Top 15 ***\n"
          ]
        },
        {
          "output_type": "display_data",
          "data": {
            "image/png": "[encoded data removed]",
            "text/plain": [
              "<Figure size 432x288 with 1 Axes>"
            ]
          },
          "metadata": {
            "needs_background": "light"
          }
        }
      ]
    },
    {
      "cell_type": "markdown",
      "source": [
        "Creating and Displaying Word Cloud of top 30 highest frequently appear values in dataframe WordCount"
      ],
      "metadata": {
        "id": "MqCw6QZu1Uoh"
      }
    },
    {
      "cell_type": "code",
      "source": [
        "print('\\n*** Plot Word Cloud - Top 30 ***')\n",
        "G=dfWordCount.head(30)\n",
        "d = {}\n",
        "for a, x in G.values:\n",
        "    d[a] = x \n",
        "print(d)\n",
        "wordcloud = WordCloud(background_color=\"white\")\n",
        "wordcloud.generate_from_frequencies(frequencies=d)\n",
        "plt.figure(figsize=[8,8])\n",
        "plt.imshow(wordcloud, interpolation=\"bilinear\")\n",
        "plt.axis(\"off\")\n",
        "plt.show()   "
      ],
      "metadata": {
        "colab": {
          "base_uri": "https://localhost:8080/",
          "height": 329
        },
        "id": "IN_VQ6TcqatA",
        "outputId": "b037545c-cdd5-4436-e939-c3819bc5bd69"
      },
      "execution_count": 26,
      "outputs": [
        {
          "output_type": "stream",
          "name": "stdout",
          "text": [
            "\n",
            "*** Plot Word Cloud - Top 30 ***\n",
            "{'the': 1857032, 'and': 1088717, 'to': 1065873, 'i': 901387, 'a': 898199, 'of': 875123, 'in': 593980, 'that': 483073, 'it': 482596, 'is': 437375, 'for': 363092, 'you': 326377, 'with': 286325, 'was': 284048, 'on': 274142, 'my': 270508, 'this': 258420, 'as': 223466, 'have': 222832, 'be': 208333, 'we': 206840, 'but': 204958, 'are': 196084, 'not': 180536, 'at': 171708, 'so': 164836, 'he': 158756, 'they': 151983, 'from': 148161, 'all': 144191}\n"
          ]
        },
        {
          "output_type": "display_data",
          "data": {
            "image/png": "[encoded data removed]",
            "text/plain": [
              "<Figure size 576x576 with 1 Axes>"
            ]
          },
          "metadata": {
            "needs_background": "light"
          }
        }
      ]
    },
    {
      "cell_type": "markdown",
      "source": [
        "#Text Prediction\n"
      ],
      "metadata": {
        "id": "Li1CqBNIq1Y0"
      }
    },
    {
      "cell_type": "markdown",
      "source": [
        "*   LastChar() function takes text as input and returns the last char in the text\n",
        "*   lastword() function takes text as input and returns the last Word in the text\n",
        "*   predictnextText() function takes a character or a string and number as input and predicticts the completion of the word (Word that user is going to type). It return top number of character with highest frequency based on input number \n",
        "*  NextWordPred() function takes a string and number as input and predicticts the next word that the user might type. It return top number of frequent words which came after this word based on data used.\n"
      ],
      "metadata": {
        "id": "AdUKmceM1ifl"
      }
    },
    {
      "cell_type": "code",
      "source": [
        "def predictnextText(letter,n):\n",
        "    df=dfWordCount[dfWordCount[\"Word\"].str.startswith(letter)==True]\n",
        "    if (len(df) != 0):\n",
        "      df=df.head(n).reset_index()\n",
        "      del df['index']\n",
        "      return df\n",
        "    else:\n",
        "      return \"No Predicted Words\"\n",
        "      \n",
        "def LastChar(text):\n",
        "    s=text\n",
        "    l=len(s)\n",
        "    if((\" \" in s) == True):\n",
        "        i = s.rindex(\" \")\n",
        "        return str(s[i+1:l])\n",
        "    else:\n",
        "        return str(s)\n",
        "\n",
        "def lastword(text):\n",
        "    lW = word_tokenize(text)\n",
        "    return lW[len(lW)-1]\n",
        "\n",
        "def NextWordPred(g,n):\n",
        "    df=dfw[dfw[\"Word\"]==g]\n",
        "    if (len(df) != 0):\n",
        "      dictW=Counter(df[\"Before_Word\"])\n",
        "      dfWord=pd.DataFrame.from_dict(dictW, orient='index').reset_index()\n",
        "      dfWord.columns = ['Word','Freq']\n",
        "      dfWord= dfWord.sort_values('Freq',ascending=False)\n",
        "      dfWord= dfWord.head(n).reset_index()\n",
        "      del dfWord['index']\n",
        "      return dfWord\n",
        "    else:\n",
        "      return \"No Predicted Words\""
      ],
      "metadata": {
        "id": "6JCtmfNrqxlO"
      },
      "execution_count": 27,
      "outputs": []
    },
    {
      "cell_type": "markdown",
      "source": [
        "Taking input form user, converting it to lower case.\n",
        "Then based on that input if user has incomplete word then predicting the completion of the word else predicting next word."
      ],
      "metadata": {
        "id": "KR3s2d9v3qze"
      }
    },
    {
      "cell_type": "code",
      "source": [
        "Inp=input(str(\"Enter Input :-\\n\"))\n",
        "N=int(input(\"Enter the number of words to predict :-\"))\n",
        "if(Inp!=\"\"):\n",
        "  Inp=Inp.lower()\n",
        "  if(Inp[len(Inp)-1]!=\" \"):\n",
        "      P=LastChar(Inp)\n",
        "      print(P)\n",
        "      G=predictnextText(P,N)\n",
        "      print(G)\n",
        "  else:\n",
        "      W=lastword(Inp)\n",
        "      G=NextWordPred(W,N)\n",
        "      print(G)"
      ],
      "metadata": {
        "colab": {
          "base_uri": "https://localhost:8080/"
        },
        "id": "GM-snMoPrFf1",
        "outputId": "55ba72ec-de9c-43e2-b2a2-3cfecb771aea"
      },
      "execution_count": 30,
      "outputs": [
        {
          "output_type": "stream",
          "name": "stdout",
          "text": [
            "Enter Input :-\n",
            "banlance is the key to \n",
            "Enter the number of words to predict :-9\n",
            "   Word   Freq\n",
            "0   the  86224\n",
            "1    be  68046\n",
            "2   get  25649\n",
            "3    do  25538\n",
            "4  make  21626\n",
            "5     a  20314\n",
            "6   see  17920\n",
            "7  have  17137\n",
            "8    go  14553\n"
          ]
        }
      ]
    },
    {
      "cell_type": "code",
      "source": [
        "print('*** Plot Predicted Word Freq Count ***')\n",
        "plt.figure()\n",
        "sns.barplot(x=\"Freq\", y=\"Word\", data=G, color=\"b\", orient='h')\n",
        "plt.show()"
      ],
      "metadata": {
        "colab": {
          "base_uri": "https://localhost:8080/",
          "height": 297
        },
        "id": "tnnpmntXug6M",
        "outputId": "2fbe77da-77d3-4ac3-ff8a-313649c79eb9"
      },
      "execution_count": 31,
      "outputs": [
        {
          "output_type": "stream",
          "name": "stdout",
          "text": [
            "*** Plot Predicted Word Freq Count ***\n"
          ]
        },
        {
          "output_type": "display_data",
          "data": {
            "image/png": "[encoded data removed]",
            "text/plain": [
              "<Figure size 432x288 with 1 Axes>"
            ]
          },
          "metadata": {
            "needs_background": "light"
          }
        }
      ]
    },
    {
      "cell_type": "code",
      "source": [
        "print('*** Plot Word Cloud ***')\n",
        "d = {}\n",
        "for a, x in G.values:\n",
        "    d[a] = x \n",
        "print(d)\n",
        "wordcloud = WordCloud(background_color=\"white\")\n",
        "wordcloud.generate_from_frequencies(frequencies=d)\n",
        "plt.figure(figsize=[8,8])\n",
        "plt.imshow(wordcloud, interpolation=\"bilinear\")\n",
        "plt.axis(\"off\")\n",
        "plt.show()   "
      ],
      "metadata": {
        "colab": {
          "base_uri": "https://localhost:8080/",
          "height": 290
        },
        "id": "sEyMkSdzuy8L",
        "outputId": "0b7c65b6-cd84-4c5b-9ebc-22101459979b"
      },
      "execution_count": 32,
      "outputs": [
        {
          "output_type": "stream",
          "name": "stdout",
          "text": [
            "*** Plot Word Cloud ***\n",
            "{'the': 86224, 'be': 68046, 'get': 25649, 'do': 25538, 'make': 21626, 'a': 20314, 'see': 17920, 'have': 17137, 'go': 14553}\n"
          ]
        },
        {
          "output_type": "display_data",
          "data": {
            "image/png": "[encoded data removed]",
            "text/plain": [
              "<Figure size 576x576 with 1 Axes>"
            ]
          },
          "metadata": {
            "needs_background": "light"
          }
        }
      ]
    }
  ]
}